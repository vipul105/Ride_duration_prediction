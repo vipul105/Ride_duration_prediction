{
 "cells": [
  {
   "cell_type": "code",
   "execution_count": 1,
   "metadata": {
    "collapsed": true
   },
   "outputs": [],
   "source": [
    "import numpy as np\n",
    "import pandas as pd\n",
    "import matplotlib.pyplot as plt\n",
    "from scipy import stats\n",
    "from collections import Counter\n",
    "from numpy import *"
   ]
  },
  {
   "cell_type": "code",
   "execution_count": 2,
   "metadata": {
    "collapsed": true
   },
   "outputs": [],
   "source": [
    "# Load scikit's random forest classifier library\n",
    "from sklearn.ensemble import RandomForestClassifier"
   ]
  },
  {
   "cell_type": "code",
   "execution_count": 3,
   "metadata": {
    "collapsed": true
   },
   "outputs": [],
   "source": [
    "# reading Hubway data"
   ]
  },
  {
   "cell_type": "code",
   "execution_count": 4,
   "metadata": {
    "collapsed": false,
    "scrolled": true
   },
   "outputs": [],
   "source": [
    "hubway_data = np.genfromtxt(\"hubway.txt\", delimiter=\",\")\n",
    "np.random.seed(0)"
   ]
  },
  {
   "cell_type": "code",
   "execution_count": 5,
   "metadata": {
    "collapsed": true
   },
   "outputs": [],
   "source": [
    "duration = np.array(hubway_data[:,3], dtype=float)\n",
    "start_stn = np.array(hubway_data[:,5], dtype=float)\n",
    "end_stn= np.array(hubway_data[:,7], dtype=float)\n",
    "user_id = np.array(hubway_data[:,1], dtype=float)\n",
    "birth_year = np.array(hubway_data[:,11], dtype=float)\n",
    "age = np.array(2016-birth_year, dtype = float)\n",
    "gender = np.array(hubway_data[:,-1], dtype=float)"
   ]
  },
  {
   "cell_type": "code",
   "execution_count": 6,
   "metadata": {
    "collapsed": true
   },
   "outputs": [],
   "source": [
    "#calculating avg age of male visitors and duration of ride"
   ]
  },
  {
   "cell_type": "code",
   "execution_count": 7,
   "metadata": {
    "collapsed": true
   },
   "outputs": [],
   "source": [
    "yt= np.unique(start_stn)\n",
    "p = len(yt)\n",
    "male_age_stn = [0]*len(yt)\n",
    "stn = [0]* len(yt)\n",
    "t=[0]*len(duration)\n",
    "u=[0]*len(duration)\n",
    "r=[0]*len(yt)\n",
    "avg_age=[0]*len(yt)\n",
    "avg_dur=[0]*len(yt)\n",
    "z=[0]*len(start_stn)\n",
    "\n",
    "for i in range (0,p):\n",
    "  pp = gender == 1    \n",
    "  dd= start_stn == yt[i]\n",
    "  ll= (age>10) & (age<60) #input required age\n",
    "  kk=np.logical_and(dd,pp)\n",
    "  lk=np.logical_and(ll,pp)\n",
    "  f=np.logical_and(lk,kk)\n",
    "  r=np.sum(f)\n",
    "  avg_age[i]=np.sum(age[f])/r  # calculating average age of male visitors\n",
    "  avg_dur[i]=np.sum(duration[f])/r   # calculating average duration of trips\n",
    "gft= max(avg_dur)\n",
    "gti=avg_dur.index(gft)"
   ]
  },
  {
   "cell_type": "code",
   "execution_count": 8,
   "metadata": {
    "collapsed": false
   },
   "outputs": [
    {
     "name": "stdout",
     "output_type": "stream",
     "text": [
      "maximum average duration is\n",
      "3298.0\n",
      "at station number\n",
      "11.0\n",
      "************************\n",
      "station having male visitors with most average age is station number\n",
      "26.0\n",
      "and maximum average age is\n",
      "54.0\n",
      "************************\n",
      "minimum average duration is\n",
      "122.0\n",
      "at station number\n",
      "11.0\n",
      "************************\n",
      "station having male visitors with least average age is station number\n",
      "50.0\n",
      "and minimum average age is\n",
      "28.0\n",
      "************************\n"
     ]
    }
   ],
   "source": [
    "# printing required result\n",
    "print(\"maximum average duration is\")\n",
    "print(gft)\n",
    "stn_max = yt[gti]\n",
    "print(\"at station number\")\n",
    "print(stn_max)\n",
    "print(\"************************\")\n",
    "\n",
    "gft1= max(avg_age)\n",
    "gti1=avg_age.index(gft1)\n",
    "age_max = yt[gti1]\n",
    "print(\"station having male visitors with most average age is station number\")\n",
    "print(age_max)\n",
    "print(\"and maximum average age is\")\n",
    "print(gft1)\n",
    "print(\"************************\")\n",
    "gftc= min(avg_dur)\n",
    "gtic=avg_dur.index(gft)\n",
    "print(\"minimum average duration is\")\n",
    "print(gftc)\n",
    "stn_min = yt[gtic]\n",
    "print(\"at station number\")\n",
    "print(stn_min)\n",
    "print(\"************************\")\n",
    "gftc1= min(avg_age)\n",
    "gtic1=avg_age.index(gftc1)\n",
    "age_min = yt[gtic1]\n",
    "print(\"station having male visitors with least average age is station number\")\n",
    "print(age_min)\n",
    "print(\"and minimum average age is\")\n",
    "print(gftc1)\n",
    "print(\"************************\")"
   ]
  },
  {
   "cell_type": "code",
   "execution_count": 10,
   "metadata": {
    "collapsed": true
   },
   "outputs": [],
   "source": [
    "# ploting the results"
   ]
  },
  {
   "cell_type": "code",
   "execution_count": 11,
   "metadata": {
    "collapsed": true
   },
   "outputs": [],
   "source": [
    "plt.scatter(yt,avg_age, s= avg_dur*50, alpha = 0.4, c=avg_dur)\n",
    "plt.xlabel('station number')\n",
    "plt.title('Variation of bubble size according to duration at station')\n",
    "plt.ylabel('Average age of male visitors')\n",
    "plt.colorbar()\n",
    "plt.grid(True)\n",
    "plt.show()"
   ]
  },
  {
   "cell_type": "code",
   "execution_count": 12,
   "metadata": {
    "collapsed": true
   },
   "outputs": [],
   "source": [
    "#calculating avg age of female visitors and duration of ride"
   ]
  },
  {
   "cell_type": "code",
   "execution_count": 13,
   "metadata": {
    "collapsed": true
   },
   "outputs": [],
   "source": [
    "yt2= np.unique(end_stn)\n",
    "p2 = len(yt2)\n",
    "r2=[0]*len(yt2)\n",
    "avg_age_f=[0]*len(yt2)\n",
    "for ii in range (0,p2):\n",
    "  var1 = gender == 2    \n",
    "  var2= end_stn == yt2[ii]\n",
    "  var3= (age>20) & (age<40)\n",
    "  f1=np.logical_and(var2,var1)\n",
    "  f2=np.logical_and(var3,var1)\n",
    "  f=np.logical_and(f2,f1)\n",
    "  r2[ii]=np.sum(f)\n",
    "  avg_age_f[ii]=np.sum(age[f])/r2[ii] # calculating average female age"
   ]
  },
  {
   "cell_type": "code",
   "execution_count": 14,
   "metadata": {
    "collapsed": true
   },
   "outputs": [],
   "source": [
    "#station with maximum and minimum female age\n",
    "val= max(r2)\n",
    "vari=r2.index(val)  \n",
    "stn_no_1 = yt2[vari]\n",
    "val1= min(avg_age_f)\n",
    "vari1 =avg_age_f.index(val1)\n",
    "stn_no_2 = yt2[vari1]\n"
   ]
  },
  {
   "cell_type": "code",
   "execution_count": 15,
   "metadata": {
    "collapsed": false
   },
   "outputs": [
    {
     "name": "stdout",
     "output_type": "stream",
     "text": [
      "station with maximum female visitor is station number\n",
      "23.0\n",
      "number of female visits is\n",
      "11\n",
      "************************\n",
      "station with least average age of female visitors is\n",
      "3.0\n",
      "average age of female visitors at this station is\n",
      "nan\n",
      "************************\n"
     ]
    }
   ],
   "source": [
    "# printing required result\n",
    "print(\"station with maximum female visitor is station number\")\n",
    "print(stn_no_1)\n",
    "print(\"number of female visits is\")\n",
    "print(val)\n",
    "print(\"************************\")\n",
    "print(\"station with least average age of female visitors is\")\n",
    "print(stn_no_2)\n",
    "print(\"average age of female visitors at this station is\")\n",
    "print(val1)\n",
    "print(\"************************\")"
   ]
  },
  {
   "cell_type": "code",
   "execution_count": 16,
   "metadata": {
    "collapsed": true
   },
   "outputs": [],
   "source": [
    "#ploting number of female visitors visiting each station\n",
    "plt.scatter(yt2,r2, s= avg_age_f*500000, alpha = 0.4, c=avg_age_f)\n",
    "plt.xlabel('station number')\n",
    "plt.title('female visitor at stations')\n",
    "plt.ylabel('Number of female visitors')\n",
    "plt.text(30,11, 'variation of color as per average age')\n",
    "plt.grid(True)\n",
    "plt.show()"
   ]
  },
  {
   "cell_type": "code",
   "execution_count": 17,
   "metadata": {
    "collapsed": true
   },
   "outputs": [],
   "source": [
    "# to find number of trips taken between given start and end station"
   ]
  },
  {
   "cell_type": "code",
   "execution_count": 18,
   "metadata": {
    "collapsed": false
   },
   "outputs": [
    {
     "name": "stdout",
     "output_type": "stream",
     "text": [
      "total trips taken between start station 36 and end stationstr 39 is\n",
      "3\n",
      "*************************************\n",
      "total trips taken between start station 38 and end stationstr 44 is\n",
      "7\n",
      "*************************************\n"
     ]
    }
   ],
   "source": [
    "hub_stn_strt = [36,38] # array to contain list of start station\n",
    "hub_stn_end = [39,44]  # array to contain list of end stations\n",
    "for j in range (0,len(hub_stn_strt)):\n",
    "    s = end_stn == hub_stn_end [j]\n",
    "    s1= start_stn == hub_stn_strt [j]    \n",
    "    g1=np.logical_and(s,s1)\n",
    "    user_array1 = user_id[g1]\n",
    "    user_array = np.array(user_array1, dtype=int)\n",
    "    tot=len(user_array)\n",
    "    #printing required result\n",
    "    print(\"total trips taken between start station \" + str(hub_stn_strt[j])+\" and end stationstr \" +str(hub_stn_end[j])+ \" is\")\n",
    "    print(tot)\n",
    "    print(\"*************************************\")"
   ]
  },
  {
   "cell_type": "code",
   "execution_count": 19,
   "metadata": {
    "collapsed": false
   },
   "outputs": [
    {
     "name": "stdout",
     "output_type": "stream",
     "text": [
      "Maximum taffic is between is on route between station [ 23.] and station[ 23.]\n",
      "*************************************\n"
     ]
    }
   ],
   "source": [
    "#finding most busy station\n",
    "for u in range (1,len(start_stn)):\n",
    " z[u] = (start_stn[u])*100 + end_stn[u]\n",
    "op=stats.mode(z)\n",
    "maxi=op[0]\n",
    "nots=op[1]\n",
    "end_station1 = maxi%100\n",
    "start_station1 = (maxi-end_station1)/100\n",
    "#printing required result\n",
    "print(\"Maximum taffic is between is on route between station \" + str(start_station1)+\" and station\" +str(end_station1))\n",
    "print(\"*************************************\")\n"
   ]
  },
  {
   "cell_type": "code",
   "execution_count": 20,
   "metadata": {
    "collapsed": true
   },
   "outputs": [],
   "source": [
    "# calculating traffic on each route\n",
    "for u in range (1,len(start_stn)):\n",
    "  z[u] = (start_stn[u])*100 + end_stn[u]\n",
    "op1=Counter(z)\n",
    "keys = list(op1.keys())\n",
    "vals = list(op1.values())\n",
    "maxi=max(vals) #calculating maximum traffic\n",
    "ank=vals.index(maxi)\n",
    "number=keys[ank]\n",
    "itr=vals[ank]\n",
    "end_station = np.mod(keys, [100]*len(vals))\n",
    "start_station = (keys-end_station)/100\n",
    "\n",
    "#ploting a scatter plot for traffic between each route\n",
    "plt.scatter(start_station, end_station, s=vals*60000, alpha = 1,c=vals)\n",
    "plt.xlabel('Start station')\n",
    "plt.ylabel('End Station')\n",
    "plt.title('number of visitors on station routes')\n",
    "plt.xlim(0, 55)\n",
    "plt.ylim(0, 55)\n",
    "plt.text(1, 50, 'color variation as per number of trips')\n",
    "plt.colorbar()\n",
    "plt.grid(True)\n",
    "plt.show()\n"
   ]
  },
  {
   "cell_type": "code",
   "execution_count": 21,
   "metadata": {
    "collapsed": true
   },
   "outputs": [],
   "source": [
    "## Predict ride duration using random forets"
   ]
  },
  {
   "cell_type": "code",
   "execution_count": 22,
   "metadata": {
    "collapsed": false
   },
   "outputs": [],
   "source": [
    "df = pd.DataFrame(hubway_data)"
   ]
  },
  {
   "cell_type": "code",
   "execution_count": 23,
   "metadata": {
    "collapsed": true
   },
   "outputs": [],
   "source": [
    "# puting a numeric value instaed of text"
   ]
  },
  {
   "cell_type": "code",
   "execution_count": 24,
   "metadata": {
    "collapsed": false
   },
   "outputs": [],
   "source": [
    "for i in range(len(hubway_data)):\n",
    "    if df[9][i] == 'Casual':\n",
    "        df[9][i] = 2\n",
    "    else:\n",
    "        df[9][i] = 1\n"
   ]
  },
  {
   "cell_type": "code",
   "execution_count": 25,
   "metadata": {
    "collapsed": false
   },
   "outputs": [
    {
     "data": {
      "text/html": [
       "<div>\n",
       "<table border=\"1\" class=\"dataframe\">\n",
       "  <thead>\n",
       "    <tr style=\"text-align: right;\">\n",
       "      <th></th>\n",
       "      <th>0</th>\n",
       "      <th>1</th>\n",
       "      <th>2</th>\n",
       "      <th>3</th>\n",
       "      <th>4</th>\n",
       "      <th>5</th>\n",
       "      <th>6</th>\n",
       "      <th>7</th>\n",
       "      <th>8</th>\n",
       "      <th>9</th>\n",
       "      <th>10</th>\n",
       "      <th>11</th>\n",
       "      <th>12</th>\n",
       "    </tr>\n",
       "  </thead>\n",
       "  <tbody>\n",
       "    <tr>\n",
       "      <th>0</th>\n",
       "      <td>NaN</td>\n",
       "      <td>NaN</td>\n",
       "      <td>NaN</td>\n",
       "      <td>NaN</td>\n",
       "      <td>NaN</td>\n",
       "      <td>NaN</td>\n",
       "      <td>NaN</td>\n",
       "      <td>NaN</td>\n",
       "      <td>NaN</td>\n",
       "      <td>1.0</td>\n",
       "      <td>NaN</td>\n",
       "      <td>NaN</td>\n",
       "      <td>NaN</td>\n",
       "    </tr>\n",
       "    <tr>\n",
       "      <th>1</th>\n",
       "      <td>1.0</td>\n",
       "      <td>8.0</td>\n",
       "      <td>NaN</td>\n",
       "      <td>9.0</td>\n",
       "      <td>NaN</td>\n",
       "      <td>23.0</td>\n",
       "      <td>NaN</td>\n",
       "      <td>23.0</td>\n",
       "      <td>NaN</td>\n",
       "      <td>1.0</td>\n",
       "      <td>NaN</td>\n",
       "      <td>1976.0</td>\n",
       "      <td>1.0</td>\n",
       "    </tr>\n",
       "    <tr>\n",
       "      <th>2</th>\n",
       "      <td>2.0</td>\n",
       "      <td>9.0</td>\n",
       "      <td>NaN</td>\n",
       "      <td>220.0</td>\n",
       "      <td>NaN</td>\n",
       "      <td>23.0</td>\n",
       "      <td>NaN</td>\n",
       "      <td>23.0</td>\n",
       "      <td>NaN</td>\n",
       "      <td>1.0</td>\n",
       "      <td>NaN</td>\n",
       "      <td>1966.0</td>\n",
       "      <td>1.0</td>\n",
       "    </tr>\n",
       "    <tr>\n",
       "      <th>3</th>\n",
       "      <td>3.0</td>\n",
       "      <td>10.0</td>\n",
       "      <td>NaN</td>\n",
       "      <td>56.0</td>\n",
       "      <td>NaN</td>\n",
       "      <td>23.0</td>\n",
       "      <td>NaN</td>\n",
       "      <td>23.0</td>\n",
       "      <td>NaN</td>\n",
       "      <td>1.0</td>\n",
       "      <td>NaN</td>\n",
       "      <td>1943.0</td>\n",
       "      <td>1.0</td>\n",
       "    </tr>\n",
       "    <tr>\n",
       "      <th>4</th>\n",
       "      <td>4.0</td>\n",
       "      <td>11.0</td>\n",
       "      <td>NaN</td>\n",
       "      <td>64.0</td>\n",
       "      <td>NaN</td>\n",
       "      <td>23.0</td>\n",
       "      <td>NaN</td>\n",
       "      <td>23.0</td>\n",
       "      <td>NaN</td>\n",
       "      <td>1.0</td>\n",
       "      <td>NaN</td>\n",
       "      <td>1981.0</td>\n",
       "      <td>2.0</td>\n",
       "    </tr>\n",
       "  </tbody>\n",
       "</table>\n",
       "</div>"
      ],
      "text/plain": [
       "    0     1   2      3   4     5   6     7   8    9   10      11   12\n",
       "0  NaN   NaN NaN    NaN NaN   NaN NaN   NaN NaN  1.0 NaN     NaN  NaN\n",
       "1  1.0   8.0 NaN    9.0 NaN  23.0 NaN  23.0 NaN  1.0 NaN  1976.0  1.0\n",
       "2  2.0   9.0 NaN  220.0 NaN  23.0 NaN  23.0 NaN  1.0 NaN  1966.0  1.0\n",
       "3  3.0  10.0 NaN   56.0 NaN  23.0 NaN  23.0 NaN  1.0 NaN  1943.0  1.0\n",
       "4  4.0  11.0 NaN   64.0 NaN  23.0 NaN  23.0 NaN  1.0 NaN  1981.0  2.0"
      ]
     },
     "execution_count": 25,
     "metadata": {},
     "output_type": "execute_result"
    }
   ],
   "source": [
    "# Viewing data\n",
    "df.head()"
   ]
  },
  {
   "cell_type": "code",
   "execution_count": 26,
   "metadata": {
    "collapsed": true
   },
   "outputs": [],
   "source": [
    "np.random.seed(0)"
   ]
  },
  {
   "cell_type": "code",
   "execution_count": 27,
   "metadata": {
    "collapsed": true
   },
   "outputs": [],
   "source": [
    "# removing data which is not needed"
   ]
  },
  {
   "cell_type": "code",
   "execution_count": 28,
   "metadata": {
    "collapsed": false
   },
   "outputs": [],
   "source": [
    "df1 = df.drop(df.index[[0]])\n",
    "df1 = df.drop(df.index[[2,4,6,8,10]], axis = 1)"
   ]
  },
  {
   "cell_type": "code",
   "execution_count": 29,
   "metadata": {
    "collapsed": false
   },
   "outputs": [],
   "source": [
    "df1 = df1[1:len(df)]\n",
    "df1.columns = ['seq_id', 'hubway_id','duration','strt_statn','end_statn','subsc_type','birth_date','gender']"
   ]
  },
  {
   "cell_type": "code",
   "execution_count": 30,
   "metadata": {
    "collapsed": true
   },
   "outputs": [],
   "source": [
    "#dividind duration in three slots "
   ]
  },
  {
   "cell_type": "code",
   "execution_count": 31,
   "metadata": {
    "collapsed": false
   },
   "outputs": [],
   "source": [
    "df1['new'] = pd.qcut(df1['duration'], 3, labels=[\"1\",\"2\",\"3\"])"
   ]
  },
  {
   "cell_type": "code",
   "execution_count": 32,
   "metadata": {
    "collapsed": true
   },
   "outputs": [],
   "source": [
    "# Putting unknown values as zero"
   ]
  },
  {
   "cell_type": "code",
   "execution_count": 33,
   "metadata": {
    "collapsed": false
   },
   "outputs": [
    {
     "name": "stderr",
     "output_type": "stream",
     "text": [
      "C:\\Anaconda2\\lib\\site-packages\\ipykernel\\__main__.py:2: SettingWithCopyWarning: \n",
      "A value is trying to be set on a copy of a slice from a DataFrame\n",
      "\n",
      "See the caveats in the documentation: http://pandas.pydata.org/pandas-docs/stable/indexing.html#indexing-view-versus-copy\n",
      "  from ipykernel import kernelapp as app\n",
      "C:\\Anaconda2\\lib\\site-packages\\ipykernel\\__main__.py:5: SettingWithCopyWarning: \n",
      "A value is trying to be set on a copy of a slice from a DataFrame\n",
      "\n",
      "See the caveats in the documentation: http://pandas.pydata.org/pandas-docs/stable/indexing.html#indexing-view-versus-copy\n"
     ]
    }
   ],
   "source": [
    "where_are_NaNs = isnan(df1['gender'])\n",
    "df1['gender'][where_are_NaNs] = 0\n",
    "\n",
    "where_are_NaNs = isnan(df1['birth_date'])\n",
    "df1['birth_date'][where_are_NaNs] = 0"
   ]
  },
  {
   "cell_type": "code",
   "execution_count": 34,
   "metadata": {
    "collapsed": true
   },
   "outputs": [],
   "source": [
    "# spliting in train and test set"
   ]
  },
  {
   "cell_type": "code",
   "execution_count": 35,
   "metadata": {
    "collapsed": false
   },
   "outputs": [],
   "source": [
    "df1['train'] = np.random.uniform(0,1,len(df1)) <0.75"
   ]
  },
  {
   "cell_type": "code",
   "execution_count": 36,
   "metadata": {
    "collapsed": false
   },
   "outputs": [],
   "source": [
    "train, test = df1[df1['train']==True], df1[df1['train']==False]"
   ]
  },
  {
   "cell_type": "code",
   "execution_count": 37,
   "metadata": {
    "collapsed": false
   },
   "outputs": [
    {
     "name": "stdout",
     "output_type": "stream",
     "text": [
      "('Number of observations in the training data:', 1115)\n",
      "('Number of observations in the test data:', 385)\n"
     ]
    }
   ],
   "source": [
    "print('Number of observations in the training data:', len(train))\n",
    "print('Number of observations in the test data:',len(test))"
   ]
  },
  {
   "cell_type": "code",
   "execution_count": 38,
   "metadata": {
    "collapsed": false
   },
   "outputs": [],
   "source": [
    "# defining features"
   ]
  },
  {
   "cell_type": "code",
   "execution_count": 39,
   "metadata": {
    "collapsed": false
   },
   "outputs": [],
   "source": [
    "features = ['strt_statn','end_statn','gender','subsc_type']\n",
    "y = train['new']"
   ]
  },
  {
   "cell_type": "code",
   "execution_count": 40,
   "metadata": {
    "collapsed": false
   },
   "outputs": [],
   "source": [
    "# Create a random forest Classifier. By convention, clf means 'Classifier'\n",
    "clf = RandomForestClassifier(n_jobs=2, random_state=0)"
   ]
  },
  {
   "cell_type": "code",
   "execution_count": 41,
   "metadata": {
    "collapsed": true
   },
   "outputs": [],
   "source": [
    "# training the model "
   ]
  },
  {
   "cell_type": "code",
   "execution_count": 42,
   "metadata": {
    "collapsed": false
   },
   "outputs": [
    {
     "data": {
      "text/plain": [
       "RandomForestClassifier(bootstrap=True, class_weight=None, criterion='gini',\n",
       "            max_depth=None, max_features='auto', max_leaf_nodes=None,\n",
       "            min_samples_leaf=1, min_samples_split=2,\n",
       "            min_weight_fraction_leaf=0.0, n_estimators=10, n_jobs=2,\n",
       "            oob_score=False, random_state=0, verbose=0, warm_start=False)"
      ]
     },
     "execution_count": 42,
     "metadata": {},
     "output_type": "execute_result"
    }
   ],
   "source": [
    "clf.fit(train[features], y)"
   ]
  },
  {
   "cell_type": "code",
   "execution_count": 43,
   "metadata": {
    "collapsed": true
   },
   "outputs": [],
   "source": [
    "# predicting"
   ]
  },
  {
   "cell_type": "code",
   "execution_count": 44,
   "metadata": {
    "collapsed": false
   },
   "outputs": [],
   "source": [
    "preds = clf.predict(test[features])"
   ]
  },
  {
   "cell_type": "code",
   "execution_count": 45,
   "metadata": {
    "collapsed": true
   },
   "outputs": [],
   "source": [
    "# getting a confusion matrix"
   ]
  },
  {
   "cell_type": "code",
   "execution_count": 46,
   "metadata": {
    "collapsed": false
   },
   "outputs": [
    {
     "name": "stdout",
     "output_type": "stream",
     "text": [
      "predicted duration   1   2   3\n",
      "actual duration               \n",
      "1                   74  33  16\n",
      "2                   43  61  25\n",
      "3                   19  23  91\n"
     ]
    }
   ],
   "source": [
    "a = pd.crosstab(test['new'], preds, rownames=['actual duration'], colnames=['predicted duration'])\n",
    "print a"
   ]
  },
  {
   "cell_type": "code",
   "execution_count": 47,
   "metadata": {
    "collapsed": true
   },
   "outputs": [],
   "source": [
    "# saving the result"
   ]
  },
  {
   "cell_type": "code",
   "execution_count": 48,
   "metadata": {
    "collapsed": false
   },
   "outputs": [],
   "source": [
    "np.savetxt('confusion_matrix.csv', a , delimiter=',')   # X is an array"
   ]
  },
  {
   "cell_type": "code",
   "execution_count": 49,
   "metadata": {
    "collapsed": true
   },
   "outputs": [],
   "source": [
    "#end "
   ]
  }
 ],
 "metadata": {
  "kernelspec": {
   "display_name": "Python [Root]",
   "language": "python",
   "name": "Python [Root]"
  },
  "language_info": {
   "codemirror_mode": {
    "name": "ipython",
    "version": 2
   },
   "file_extension": ".py",
   "mimetype": "text/x-python",
   "name": "python",
   "nbconvert_exporter": "python",
   "pygments_lexer": "ipython2",
   "version": "2.7.12"
  }
 },
 "nbformat": 4,
 "nbformat_minor": 0
}
